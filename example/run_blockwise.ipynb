{
 "cells": [
  {
   "cell_type": "code",
   "execution_count": 3,
   "metadata": {},
   "outputs": [],
   "source": [
    "import sys\n",
    "sys.path.append('/home/silja/fatepredict/fatepredict_experiments')"
   ]
  },
  {
   "cell_type": "code",
   "execution_count": 4,
   "metadata": {},
   "outputs": [
    {
     "name": "stdout",
     "output_type": "stream",
     "text": [
      "The autoreload extension is already loaded. To reload it, use:\n",
      "  %reload_ext autoreload\n"
     ]
    }
   ],
   "source": [
    "%load_ext autoreload\n",
    "%autoreload 2\n",
    "import logging\n",
    "import multiprocessing\n",
    "import os\n",
    "import shutil\n",
    "import sys\n",
    "import time\n",
    "import types\n",
    "\n",
    "import numpy as np\n",
    "import pandas as pd\n",
    "\n",
    "from linajea.config import TrackingConfig\n",
    "import linajea.evaluation\n",
    "\n",
    "import linajea.config\n",
    "import linajea.process_blockwise\n",
    "import linajea.utils\n",
    "from blockwise.candidate_graph_blockwise import extract_edges_blockwise"
   ]
  },
  {
   "cell_type": "code",
   "execution_count": 5,
   "metadata": {},
   "outputs": [
    {
     "name": "stdout",
     "output_type": "stream",
     "text": [
      "/\n",
      " ├── .zarr\n",
      " ├── Fragment_stats\n",
      " │   ├── Position\n",
      " │   ├── Volume\n",
      " │   └── id\n",
      " ├── Fragments (3, 15, 30, 30) uint64\n",
      " ├── Merge_tree\n",
      " │   ├── Merge\n",
      " │   └── Scoring\n",
      " ├── Raw (4, 3, 15, 30, 30) float64\n",
      " └── gt_trackimage (3, 15, 30, 30) uint64\n"
     ]
    }
   ],
   "source": [
    "import zarr\n",
    "z = zarr.open ( 'anno_alice_T2030_tiny.zarr' , 'r' )\n",
    "\n",
    "fragments = z['Fragments'][:]\n",
    "raw = z['Raw'][:]\n",
    "#track = z['gt_trackimage']\n",
    "print(z.tree(level=2))"
   ]
  },
  {
   "cell_type": "code",
   "execution_count": 2,
   "metadata": {},
   "outputs": [
    {
     "name": "stdout",
     "output_type": "stream",
     "text": [
      "Current working directory: /groups/funke/home/xuz2/fatepredict_experiments/example\n"
     ]
    }
   ],
   "source": [
    "\n",
    "# Get the current working directory\n",
    "cwd = os.getcwd()\n",
    "\n",
    "# Print the current working directory\n",
    "print(\"Current working directory:\", cwd)"
   ]
  },
  {
   "cell_type": "code",
   "execution_count": 15,
   "metadata": {},
   "outputs": [],
   "source": [
    "config_file = 'config.toml'\n",
    "config = TrackingConfig.from_file(config_file)"
   ]
  },
  {
   "cell_type": "code",
   "execution_count": 16,
   "metadata": {},
   "outputs": [
    {
     "data": {
      "application/vnd.jupyter.widget-view+json": {
       "model_id": "a6ff9dc227e147e3b883d09caf5a5cd5",
       "version_major": 2,
       "version_minor": 0
      },
      "text/plain": [
       "cabdidategraph_extract_edges ▶:   0%|          | 0/4 [00:00<?, ?blocks/s]"
      ]
     },
     "metadata": {},
     "output_type": "display_data"
    },
    {
     "name": "stdout",
     "output_type": "stream",
     "text": [
      "\n",
      "Execution Summary\n",
      "-----------------\n",
      "\n",
      "  Task cabdidategraph_extract_edges:\n",
      "\n",
      "    num blocks : 4\n",
      "    completed ✔: 4 (skipped 0)\n",
      "    failed    ✗: 0\n",
      "    orphaned  ∅: 0\n",
      "\n",
      "    all blocks processed successfully\n"
     ]
    }
   ],
   "source": [
    "extract_edges_blockwise(config)"
   ]
  },
  {
   "cell_type": "code",
   "execution_count": 17,
   "metadata": {},
   "outputs": [],
   "source": [
    "data = config.inference_data.data_source\n",
    "graph_provider = linajea.utils.CandidateDatabase(data.db_name,\n",
    "                                                config.general.db_host,\n",
    "                                                mode='r+')"
   ]
  },
  {
   "cell_type": "code",
   "execution_count": null,
   "metadata": {},
   "outputs": [],
   "source": []
  },
  {
   "cell_type": "code",
   "execution_count": 49,
   "metadata": {},
   "outputs": [],
   "source": [
    "import daisy\n",
    "extract_roi = daisy.Roi(offset=data.roi.offset,\n",
    "                            shape=data.roi.shape)"
   ]
  },
  {
   "cell_type": "code",
   "execution_count": 66,
   "metadata": {},
   "outputs": [],
   "source": [
    "block_write_roi = daisy.Roi(\n",
    "        (0,)*4,\n",
    "        daisy.Coordinate(config.extract.block_size))\n",
    "\n",
    "    # set thresgold\n",
    "max_edge_move_th = max(config.extract.edge_move_threshold.values())\n",
    "pos_context = daisy.Coordinate((0,) + (max_edge_move_th,)*3)\n",
    "neg_context = daisy.Coordinate((1,) + (max_edge_move_th,)*3)\n",
    "\n",
    "\n",
    "input_roi = extract_roi.grow(neg_context, pos_context)\n",
    "block_read_roi = block_write_roi"
   ]
  },
  {
   "cell_type": "code",
   "execution_count": 67,
   "metadata": {},
   "outputs": [
    {
     "data": {
      "text/plain": [
       "[0:2, 0:4, 0:4, 0:4] (2, 4, 4, 4)"
      ]
     },
     "execution_count": 67,
     "metadata": {},
     "output_type": "execute_result"
    }
   ],
   "source": [
    "block_read_roi"
   ]
  },
  {
   "cell_type": "code",
   "execution_count": null,
   "metadata": {},
   "outputs": [],
   "source": []
  }
 ],
 "metadata": {
  "kernelspec": {
   "display_name": "linajea",
   "language": "python",
   "name": "python3"
  },
  "language_info": {
   "codemirror_mode": {
    "name": "ipython",
    "version": 3
   },
   "file_extension": ".py",
   "mimetype": "text/x-python",
   "name": "python",
   "nbconvert_exporter": "python",
   "pygments_lexer": "ipython3",
   "version": "3.10.9"
  },
  "orig_nbformat": 4,
  "vscode": {
   "interpreter": {
    "hash": "0633545b934414debe0481e775688adeb220e9d0112d4fa6d23795a6243ccfe4"
   }
  }
 },
 "nbformat": 4,
 "nbformat_minor": 2
}
