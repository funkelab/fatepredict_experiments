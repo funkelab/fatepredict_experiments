{
 "cells": [
  {
   "cell_type": "code",
   "execution_count": 1,
   "metadata": {},
   "outputs": [],
   "source": [
    "import sys\n",
    "sys.path.append('/home/silja/fatepredict/fatepredict_experiments')"
   ]
  },
  {
   "cell_type": "code",
   "execution_count": 2,
   "metadata": {},
   "outputs": [],
   "source": [
    "import zarr\n",
    "import numpy as np\n",
    "import networkx as nx\n",
    "from skimage.measure import regionprops\n",
    "from segmentation import segment_stats\n",
    "from linajea_cost_test import get_merge_graph_from_array\n",
    "from funlib.math import decode64"
   ]
  },
  {
   "cell_type": "code",
   "execution_count": 23,
   "metadata": {},
   "outputs": [],
   "source": [
    "z = zarr.open('anno_alice_T2030_tiny.zarr','r')\n",
    "gt_image = z['gt_trackimage'][:]\n",
    "raw = z['Raw'][:]\n",
    "fragments = z['Fragments'][:]"
   ]
  },
  {
   "cell_type": "code",
   "execution_count": 4,
   "metadata": {},
   "outputs": [],
   "source": [
    "# annation label is 10000, 10001, 10004, 10005, 10007, 10010, 10013, 10016, 10017 pick them out\n",
    "gt_mask = gt_image >=10000\n",
    "gt_image = gt_mask * gt_image"
   ]
  },
  {
   "cell_type": "code",
   "execution_count": 5,
   "metadata": {},
   "outputs": [
    {
     "data": {
      "text/plain": [
       "(3, 15, 30, 30)"
      ]
     },
     "execution_count": 5,
     "metadata": {},
     "output_type": "execute_result"
    }
   ],
   "source": [
    "gt_image.shape"
   ]
  },
  {
   "cell_type": "code",
   "execution_count": null,
   "metadata": {},
   "outputs": [],
   "source": [
    "# create annotation graph by gt_trackimage\n",
    "time = \n",
    "for label in np.unique(gt_image):\n"
   ]
  },
  {
   "cell_type": "code",
   "execution_count": 6,
   "metadata": {},
   "outputs": [],
   "source": [
    "# get the id list of one time frame\n",
    "id, positions, _ = segment_stats(gt_image[0],0)"
   ]
  },
  {
   "cell_type": "code",
   "execution_count": 7,
   "metadata": {},
   "outputs": [],
   "source": [
    "t = 0\n",
    "merge_tree = z['Merge_tree/Merge/'+str(t)]\n",
    "scores = z['Merge_tree/Scoring/'+str(t)]\n",
    "merge_tree = get_merge_graph_from_array(merge_tree,scores)\n"
   ]
  },
  {
   "cell_type": "code",
   "execution_count": 8,
   "metadata": {},
   "outputs": [],
   "source": [
    "# count the number of how many annotation id in merge tree\n",
    "def count_anno_id(id,merge_tree):\n",
    "    '''\n",
    "    merge_tree: nx.Digrph merge_tree create by waterz \n",
    "    id: ndarray (n,) 1d array store all ids in GT image\n",
    "    correct_id_num: int count the number of how many annotation node(id) in merge tree\n",
    "    '''\n",
    "    mt_id = list(merge_tree.nodes)\n",
    "    correct_id_num = len(set(id)&set(mt_id))\n",
    "    return correct_id_num \n",
    "\n",
    "correct_id_num = count_anno_id(id,merge_tree)"
   ]
  },
  {
   "cell_type": "code",
   "execution_count": 9,
   "metadata": {},
   "outputs": [
    {
     "data": {
      "text/plain": [
       "<Labels layer 'gt_image' at 0x7f09e4ed7700>"
      ]
     },
     "execution_count": 9,
     "metadata": {},
     "output_type": "execute_result"
    }
   ],
   "source": [
    "import napari\n",
    "viewer = napari.Viewer()\n",
    "viewer.add_image(raw[3])\n",
    "viewer.add_labels(gt_image)"
   ]
  },
  {
   "attachments": {},
   "cell_type": "markdown",
   "metadata": {},
   "source": [
    "# get the sovler output"
   ]
  },
  {
   "cell_type": "code",
   "execution_count": 11,
   "metadata": {},
   "outputs": [],
   "source": [
    "# read .gexf file which created by run_candidate_graph.ipynb\n",
    "graph = nx.read_gexf('text.gexf')"
   ]
  },
  {
   "cell_type": "code",
   "execution_count": 41,
   "metadata": {},
   "outputs": [],
   "source": [
    "def get_select_graph(graph):\n",
    "    select_graph = nx.DiGraph()\n",
    "    for u,v,data in graph.edges(data=True):\n",
    "        if data['selected']:\n",
    "            select_graph.add_edge(v, u, source = v, target = u)\n",
    "            select_graph.add_node(u, **graph.nodes[u])\n",
    "            select_graph.add_node(v, **graph.nodes[v])\n",
    "    return select_graph"
   ]
  },
  {
   "cell_type": "code",
   "execution_count": 42,
   "metadata": {},
   "outputs": [],
   "source": [
    "select_graph = get_select_graph(graph)"
   ]
  },
  {
   "cell_type": "code",
   "execution_count": 14,
   "metadata": {},
   "outputs": [],
   "source": [
    "def pick_select_edge(graph):\n",
    "    edges = []\n",
    "    selected_edges = []\n",
    "    for u,v,data in graph.edges(data=True):\n",
    "        edges.append((u,v))\n",
    "        if data['selected']:\n",
    "            selected_edges.append((u,v))\n",
    "    return edges, selected_edges\n",
    "\n",
    "edges, selected_edges = pick_select_edge(graph)"
   ]
  },
  {
   "cell_type": "code",
   "execution_count": 15,
   "metadata": {},
   "outputs": [
    {
     "data": {
      "text/plain": [
       "[0, 4, 25, 6, 711]"
      ]
     },
     "execution_count": 15,
     "metadata": {},
     "output_type": "execute_result"
    }
   ],
   "source": [
    "from linajea_cost_test import get_merge_graph\n",
    "\n",
    "decode64(int(25016140147197952),dims=5,bits=[9,12,12,12,19])"
   ]
  },
  {
   "cell_type": "code",
   "execution_count": 16,
   "metadata": {},
   "outputs": [],
   "source": [
    "def selected_nodes_t(graph,t):\n",
    "    nodes_t = []\n",
    "    for node in graph.nodes:\n",
    "        cor = decode64(int(node),dims=5,bits=[9,12,12,12,19])\n",
    "        if cor[0] == t:\n",
    "            nodes_t.append(node)\n",
    "    return nodes_t"
   ]
  },
  {
   "cell_type": "code",
   "execution_count": 34,
   "metadata": {},
   "outputs": [],
   "source": [
    "track_data = []\n",
    "# creat a list for tracking node\n",
    "track_id_node = []\n",
    "track_id = 0\n",
    "for node in select_graph.nodes:\n",
    "    cor = decode64(int(node),dims=5,bits=[9,12,12,12,19])\n",
    "    track_data.append([track_id,cor[0],cor[1],cor[2],cor[3]])\n",
    "    track_id_node.append(node)\n",
    "    track_id += 1"
   ]
  },
  {
   "cell_type": "code",
   "execution_count": 36,
   "metadata": {},
   "outputs": [],
   "source": [
    "from candidate_graph import iterate_tree\n",
    "def add_select_nodes_mask(z):\n",
    "    time = 3\n",
    "    cell = np.zeros(fragments.shape,dtype=int)\n",
    "    for t in range(time-1):\n",
    "        ids_pre = z['Fragment_stats/id/'+str(t)]\n",
    "        merge_tree_pre = z['Merge_tree/Merge/'+str(t)]\n",
    "        scores_pre = z['Merge_tree/Scoring/'+str(t)]\n",
    "\n",
    "        ids_nex = z['Fragment_stats/id/'+str(t+1)]\n",
    "        merge_tree_nex = z['Merge_tree/Merge/'+str(t+1)]\n",
    "        scores_nex = z['Merge_tree/Scoring/'+str(t+1)]\n",
    "\n",
    "\n",
    "        merge_tree = get_merge_graph_from_array(merge_tree,scores)\n",
    "        for node in select_graph.nodes:\n",
    "            if merge_tree.has_node(int(node)):\n",
    "                # find the merge path\n",
    "                sub_a = iterate_tree(merge_tree,int(node))\n",
    "                # creata new cell mask for node\n",
    "                mask = np.zeros(fragments[t].shape)\n",
    "                #find id\n",
    "                for a in sub_a:\n",
    "                    if a in list(ids):\n",
    "                        # a is the leave node id\n",
    "                        # get the label of this leave node\n",
    "                        label_a = list(ids).index(a)+1\n",
    "                        mask[fragments[t] == label_a] = 1\n",
    "                cell[t][mask==1] = track_id_node.index(node)\n",
    "        return cell"
   ]
  },
  {
   "cell_type": "code",
   "execution_count": null,
   "metadata": {},
   "outputs": [],
   "source": [
    "# Mask track cell as smae label\n",
    "select_graph."
   ]
  },
  {
   "cell_type": "code",
   "execution_count": 37,
   "metadata": {},
   "outputs": [
    {
     "data": {
      "text/plain": [
       "[0, 8, 12, 2, 544]"
      ]
     },
     "execution_count": 37,
     "metadata": {},
     "output_type": "execute_result"
    }
   ],
   "source": [
    "decode64(19140315621363712,dims=5,bits=[9,12,12,12,19])"
   ]
  },
  {
   "cell_type": "code",
   "execution_count": 38,
   "metadata": {},
   "outputs": [],
   "source": [
    "cell = add_select_nodes_mask(z)"
   ]
  },
  {
   "cell_type": "code",
   "execution_count": 39,
   "metadata": {},
   "outputs": [
    {
     "data": {
      "text/plain": [
       "<Labels layer 'cell [1]' at 0x7f0a060b7b80>"
      ]
     },
     "execution_count": 39,
     "metadata": {},
     "output_type": "execute_result"
    }
   ],
   "source": [
    "viewer.add_labels(cell)"
   ]
  },
  {
   "cell_type": "code",
   "execution_count": 21,
   "metadata": {},
   "outputs": [
    {
     "data": {
      "text/plain": [
       "array([  0, 173, 174])"
      ]
     },
     "execution_count": 21,
     "metadata": {},
     "output_type": "execute_result"
    }
   ],
   "source": [
    "np.unique(cell)"
   ]
  },
  {
   "cell_type": "code",
   "execution_count": 43,
   "metadata": {},
   "outputs": [
    {
     "data": {
      "text/plain": [
       "OutEdgeDataView([('1020578718816256', '2814981697443329', {'source': '1020578718816256', 'target': '2814981697443329'}), ('2814981697443329', '8374103897543682', {'source': '2814981697443329', 'target': '8374103897543682'}), ('1794634908964352', '2216847378224641', {'source': '1794634908964352', 'target': '2216847378224641'}), ('8584995398486528', '25966100969687553', {'source': '8584995398486528', 'target': '25966100969687553'}), ('25966100969687553', '70368752566786', {'source': '25966100969687553', 'target': '70368752566786'}), ('11892360728284160', '633361655664129', {'source': '11892360728284160', 'target': '633361655664129'}), ('633361655664129', '18436671112480770', {'source': '633361655664129', 'target': '18436671112480770'}), ('950218593931776', '8901869518722049', {'source': '950218593931776', 'target': '8901869518722049'}), ('8901869518722049', '950167060617730', {'source': '8901869518722049', 'target': '950167060617730'}), ('13616583976948736', '12736966088987137', {'source': '13616583976948736', 'target': '12736966088987137'}), ('12736966088987137', '6685254091805186', {'source': '12736966088987137', 'target': '6685254091805186'}), ('387045272852992', '3940675445855745', {'source': '387045272852992', 'target': '3940675445855745'}), ('14425618334619136', '7775754836252673', {'source': '14425618334619136', 'target': '7775754836252673'}), ('7775754836252673', '24136505031136258', {'source': '7775754836252673', 'target': '24136505031136258'}), ('1125934287555072', '47991535100236289', {'source': '1125934287555072', 'target': '47991535100236289'}), ('47991535100236289', '11153454560971266', {'source': '47991535100236289', 'target': '11153454560971266'}), ('1337143618181632', '1513048298756097', {'source': '1337143618181632', 'target': '1513048298756097'}), ('1337143618181632', '1161213163607553', {'source': '1337143618181632', 'target': '1161213163607553'}), ('1513048298756097', '668606188754946', {'source': '1513048298756097', 'target': '668606188754946'}), ('1020389761225728', '1724094382870529', {'source': '1020389761225728', 'target': '1724094382870529'}), ('1724094382870529', '17803378205660162', {'source': '1724094382870529', 'target': '17803378205660162'}), ('12420306700342784', '15199846331848705', {'source': '12420306700342784', 'target': '15199846331848705'}), ('15199846331848705', '1055694392400386', {'source': '15199846331848705', 'target': '1055694392400386'}), ('1724248995398144', '1055745925710337', {'source': '1724248995398144', 'target': '1055745925710337'}), ('1337238096969728', '4116786303730177', {'source': '1337238096969728', 'target': '4116786303730177'}), ('4116786303730177', '1442731071111170', {'source': '4116786303730177', 'target': '1442731071111170'}), ('11751795078464512', '5031588599431681', {'source': '11751795078464512', 'target': '5031588599431681'}), ('5031588599431681', '6544516601349122', {'source': '5031588599431681', 'target': '6544516601349122'}), ('1126054584385536', '6509297871618561', {'source': '1126054584385536', 'target': '6509297871618561'}), ('6509297871618561', '914974109073410', {'source': '6509297871618561', 'target': '914974109073410'}), ('3131469249647616', '3799980911368193', {'source': '3131469249647616', 'target': '3799980911368193'}), ('3799980911368193', '281578060126210', {'source': '3799980911368193', 'target': '281578060126210'}), ('1372233480018432', '2146289657583617', {'source': '1372233480018432', 'target': '2146289657583617'}), ('2146289657583617', '6122132304040450', {'source': '2146289657583617', 'target': '6122132304040450'}), ('4433239475228160', '2990688809520641', {'source': '4433239475228160', 'target': '2990688809520641'}), ('2990688809520641', '422212469261314', {'source': '2990688809520641', 'target': '422212469261314'}), ('5770314342471680', '9253567185555969', {'source': '5770314342471680', 'target': '9253567185555969'}), ('9253567185555969', '9288760143384578', {'source': '9253567185555969', 'target': '9288760143384578'}), ('70600682897408', '4609358910456321', {'source': '70600682897408', 'target': '4609358910456321'}), ('4609358910456321', '3237176982636034', {'source': '4609358910456321', 'target': '3237176982636034'}), ('9429446111005184', '668546052917249', {'source': '9429446111005184', 'target': '668546052917249'}), ('668546052917249', '28816035136147458', {'source': '668546052917249', 'target': '28816035136147458'}), ('27795748470920192', '950098345333249', {'source': '27795748470920192', 'target': '950098345333249'}), ('950098345333249', '4750010528830466', {'source': '950098345333249', 'target': '4750010528830466'}), ('352084251639808', '703919386788353', {'source': '352084251639808', 'target': '703919386788353'}), ('2005715371687936', '1161281849525249', {'source': '2005715371687936', 'target': '1161281849525249'}), ('1161281849525249', '3237125440933378', {'source': '1161281849525249', 'target': '3237125440933378'}), ('3870495678139392', '4011224580753921', {'source': '3870495678139392', 'target': '4011224580753921'}), ('4011224580753921', '703876422437890', {'source': '4011224580753921', 'target': '703876422437890'}), ('3307477059766272', '22307046575576065', {'source': '3307477059766272', 'target': '22307046575576065'}), ('22307046575576065', '21005181841835522', {'source': '22307046575576065', 'target': '21005181841835522'}), ('25860668156548096', '1126045975583233', {'source': '25860668156548096', 'target': '1126045975583233'}), ('1126045975583233', '703807747004930', {'source': '1126045975583233', 'target': '703807747004930'}), ('6333384552877056', '2040873976071681', {'source': '6333384552877056', 'target': '2040873976071681'}), ('2040873976071681', '2955684832348162', {'source': '2040873976071681', 'target': '2955684832348162'}), ('809352231393792', '914870994213889', {'source': '809352231393792', 'target': '914870994213889'}), ('914870994213889', '29484641261982210', {'source': '914870994213889', 'target': '29484641261982210'}), ('950184223705600', '1302019350464001', {'source': '950184223705600', 'target': '1302019350464001'}), ('1302019350464001', '13475837865100802', {'source': '1302019350464001', 'target': '13475837865100802'}), ('34234522901939712', '5629628389524481', {'source': '34234522901939712', 'target': '5629628389524481'}), ('34234522901939712', '211192140268033', {'source': '34234522901939712', 'target': '211192140268033'}), ('5629628389524481', '2005663836275714', {'source': '5629628389524481', 'target': '2005663836275714'}), ('5453646393247232', '1900050586272769', {'source': '5453646393247232', 'target': '1900050586272769'}), ('5453646393247232', '1759287323919361', {'source': '5453646393247232', 'target': '1759287323919361'}), ('1900050586272769', '422298364412418', {'source': '1900050586272769', 'target': '422298364412418'}), ('28323531230021120', '48554553771034113', {'source': '28323531230021120', 'target': '48554553771034113'}), ('48554553771034113', '1161153031965186', {'source': '48554553771034113', 'target': '1161153031965186'}), ('6825836952946176', '8479502436926977', {'source': '6825836952946176', 'target': '8479502436926977'}), ('8479502436926977', '457457006543362', {'source': '8479502436926977', 'target': '457457006543362'}), ('34199252666160128', '17803378224534529', {'source': '34199252666160128', 'target': '17803378224534529'}), ('17803378224534529', '10379484303725570', {'source': '17803378224534529', 'target': '10379484303725570'}), ('4538973003186688', '598297557336065', {'source': '4538973003186688', 'target': '598297557336065'}), ('598297557336065', '15410883844899842', {'source': '598297557336065', 'target': '15410883844899842'}), ('1161256111177728', '3448248882692097', {'source': '1161256111177728', 'target': '3448248882692097'}), ('3448248882692097', '1442739671531522', {'source': '3448248882692097', 'target': '1442739671531522'}), ('39582607616248320', '46760210930338817', {'source': '39582607616248320', 'target': '46760210930338817'}), ('46760210930338817', '43382511209810434', {'source': '46760210930338817', 'target': '43382511209810434'}), ('3061229369167872', '4187129269718529', {'source': '3061229369167872', 'target': '4187129269718529'}), ('4187129269718529', '1513108403129346', {'source': '4187129269718529', 'target': '1513108403129346'}), ('844545189216256', '457508508402689', {'source': '844545189216256', 'target': '457508508402689'}), ('844545189216256', '351963979973633', {'source': '844545189216256', 'target': '351963979973633'}), ('457508508402689', '5348127643009538', {'source': '457508508402689', 'target': '5348127643009538'}), ('1161213163607553', '13335040276567554', {'source': '1161213163607553', 'target': '13335040276567554'}), ('10555337411133952', '1724085776154625', {'source': '10555337411133952', 'target': '1724085776154625'}), ('1724085776154625', '4679573044199426', {'source': '1724085776154625', 'target': '4679573044199426'}), ('2286992805068800', '11540508425846785', {'source': '2286992805068800', 'target': '11540508425846785'}), ('11540508425846785', '4327686377832450', {'source': '11540508425846785', 'target': '4327686377832450'}), ('1759450543162880', '3835337088436225', {'source': '1759450543162880', 'target': '3835337088436225'}), ('3835337088436225', '1302062291748866', {'source': '3835337088436225', 'target': '1302062291748866'}), ('7142659481143296', '2463146587458049', {'source': '7142659481143296', 'target': '2463146587458049'}), ('2463146587458049', '387268638411266', {'source': '2463146587458049', 'target': '387268638411266'}), ('8303520449037824', '7881307981875201', {'source': '8303520449037824', 'target': '7881307981875201'}), ('7881307981875201', '10168292167649282', {'source': '7881307981875201', 'target': '10168292167649282'}), ('1442567904297984', '2146255346075137', {'source': '1442567904297984', 'target': '2146255346075137'}), ('2146255346075137', '3201786506642946', {'source': '2146255346075137', 'target': '3201786506642946'}), ('809309334145024', '422281239070209', {'source': '809309334145024', 'target': '422281239070209'}), ('4222150477090304', '19773651528192001', {'source': '4222150477090304', 'target': '19773651528192001'}), ('19773651528192001', '18682935993438210', {'source': '19773651528192001', 'target': '18682935993438210'}), ('809283545464832', '1548138179461633', {'source': '809283545464832', 'target': '1548138179461633'}), ('1548138179461633', '140771883745282', {'source': '1548138179461633', 'target': '140771883745282'}), ('4925855092441088', '4609187153707009', {'source': '4925855092441088', 'target': '4609187153707009'}), ('4609187153707009', '1407400695300098', {'source': '4609187153707009', 'target': '1407400695300098'}), ('1759390405230592', '3377854341447681', {'source': '1759390405230592', 'target': '3377854341447681'}), ('3377854341447681', '4714877660692994', {'source': '3377854341447681', 'target': '4714877660692994'}), ('19316374903985664', '28569847583478785', {'source': '19316374903985664', 'target': '28569847583478785'}), ('28569847583478785', '1055642833915906', {'source': '28569847583478785', 'target': '1055642833915906'}), ('28569847583478785', '140917883278850', {'source': '28569847583478785', 'target': '140917883278850'}), ('1337160758201856', '3764916792071169', {'source': '1337160758201856', 'target': '3764916792071169'}), ('3764916792071169', '2251980202317314', {'source': '3764916792071169', 'target': '2251980202317314'}), ('351963979973633', '3307459825371650', {'source': '351963979973633', 'target': '3307459825371650'}), ('1477820981182464', '281543744421889', {'source': '1477820981182464', 'target': '281543744421889'}), ('281543744421889', '9710964052067330', {'source': '281543744421889', 'target': '9710964052067330'}), ('10555337427916288', '598134367459841', {'source': '10555337427916288', 'target': '598134367459841'}), ('598134367459841', '457396870715906', {'source': '598134367459841', 'target': '457396870715906'}), ('3483493357061632', '2709428579075585', {'source': '3483493357061632', 'target': '2709428579075585'}), ('2709428579075585', '633550625833474', {'source': '2709428579075585', 'target': '633550625833474'}), ('3729732436755456', '1548275593248769', {'source': '3729732436755456', 'target': '1548275593248769'}), ('1548275593248769', '246453825963522', {'source': '1548275593248769', 'target': '246453825963522'}), ('1020424099994112', '1407452192970753', {'source': '1020424099994112', 'target': '1407452192970753'}), ('1407452192970753', '2709273962354690', {'source': '1407452192970753', 'target': '2709273962354690'}), ('35321834118144', '985274108615169', {'source': '35321834118144', 'target': '985274108615169'}), ('985274108615169', '70480436403202', {'source': '985274108615169', 'target': '70480436403202'}), ('9851796012931072', '211235106724353', {'source': '9851796012931072', 'target': '211235106724353'}), ('211235106724353', '1231599081363970', {'source': '211235106724353', 'target': '1231599081363970'}), ('2709428612635136', '2287224735406081', {'source': '2709428612635136', 'target': '2287224735406081'}), ('2287224735406081', '844665475568642', {'source': '2287224735406081', 'target': '844665475568642'}), ('1196500614905856', '3131641077694977', {'source': '1196500614905856', 'target': '3131641077694977'}), ('3131641077694977', '2005741168754690', {'source': '3131641077694977', 'target': '2005741168754690'}), ('1372199103496704', '879617892155393', {'source': '1372199103496704', 'target': '879617892155393'}), ('879617892155393', '1407383475585538', {'source': '879617892155393', 'target': '1407383475585538'}), ('879617892155393', '70368744177666', {'source': '879617892155393', 'target': '70368744177666'}), ('7599936094863872', '7775840777536513', {'source': '7599936094863872', 'target': '7775840777536513'}), ('7775840777536513', '8479528217217026', {'source': '7775840777536513', 'target': '8479528217217026'}), ('2990757585623040', '2005586577201153', {'source': '2990757585623040', 'target': '2005586577201153'}), ('2005586577201153', '2392597479823362', {'source': '2005586577201153', 'target': '2392597479823362'}), ('140849157511680', '527885840423425', {'source': '140849157511680', 'target': '527885840423425'}), ('527885840423425', '1759338863532034', {'source': '527885840423425', 'target': '1759338863532034'}), ('1759287323919361', '598168685248514', {'source': '1759287323919361', 'target': '598168685248514'}), ('4011250356851201', '16712791507342850', {'source': '4011250356851201', 'target': '16712791507342850'}), ('4187172250846209', '6438972064531458', {'source': '4187172250846209', 'target': '6438972064531458'}), ('3377931688611329', '16114665796932610', {'source': '3377931688611329', 'target': '16114665796932610'})])"
      ]
     },
     "execution_count": 43,
     "metadata": {},
     "output_type": "execute_result"
    }
   ],
   "source": [
    "select_graph.edges(data=True)"
   ]
  },
  {
   "cell_type": "code",
   "execution_count": null,
   "metadata": {},
   "outputs": [],
   "source": [
    "for source_id, target_id in gt_graph.edges():\n",
    "        source_node = gt_graph.nodes[source_id]\n",
    "        target_node = gt_graph.nodes[target_id]"
   ]
  }
 ],
 "metadata": {
  "kernelspec": {
   "display_name": "fatepredict",
   "language": "python",
   "name": "python3"
  },
  "language_info": {
   "codemirror_mode": {
    "name": "ipython",
    "version": 3
   },
   "file_extension": ".py",
   "mimetype": "text/x-python",
   "name": "python",
   "nbconvert_exporter": "python",
   "pygments_lexer": "ipython3",
   "version": "3.10.9"
  },
  "orig_nbformat": 4
 },
 "nbformat": 4,
 "nbformat_minor": 2
}
