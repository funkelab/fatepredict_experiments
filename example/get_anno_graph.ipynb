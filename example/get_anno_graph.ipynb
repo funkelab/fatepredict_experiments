{
 "cells": [
  {
   "cell_type": "code",
   "execution_count": null,
   "metadata": {},
   "outputs": [],
   "source": [
    "import sys\n",
    "sys.path.append('/home/silja/fatepredict/fatepredict_experiments')"
   ]
  },
  {
   "cell_type": "code",
   "execution_count": 5,
   "metadata": {},
   "outputs": [],
   "source": [
    "import sys\n",
    "sys.path.append('/home/silja/fatepredict/fatepredict_experiments')"
   ]
  },
  {
   "cell_type": "code",
   "execution_count": 6,
   "metadata": {},
   "outputs": [],
   "source": [
    "import zarr\n",
    "import numpy as np\n",
    "import networkx as nx\n",
    "from skimage.measure import regionprops\n",
    "#from segmentation import segment_stats\n",
    "from linajea_cost_test import get_merge_graph_from_array\n",
    "from linajea_cost_test import get_merge_graph\n",
    "from funlib.math import decode64, encode64\n",
    "import networkx as nx\n",
    "from candidate_graph import iterate_tree"
   ]
  },
  {
   "cell_type": "code",
   "execution_count": 7,
   "metadata": {},
   "outputs": [],
   "source": [
    "z = zarr.open('anno_alice_T2030_tiny.zarr','r')\n",
    "gt_image = z['gt_trackimage'][:]\n",
    "raw = z['Raw'][:]\n",
    "fragments = z['Fragments'][:]\n"
   ]
  },
  {
   "cell_type": "code",
   "execution_count": 8,
   "metadata": {},
   "outputs": [],
   "source": [
    "# annation label is 10000, 10001, 10004, 10005, 10007, 10010, 10013, 10016, 10017 pick them out\n",
    "gt_mask = gt_image >=10000\n",
    "gt_image = gt_mask * gt_image"
   ]
  },
  {
   "cell_type": "code",
   "execution_count": 9,
   "metadata": {},
   "outputs": [],
   "source": [
    "# create annotation graph by gt_trackimage\n",
    "time = 3\n",
    "anno_graph = nx.DiGraph()\n",
    "\n",
    "\n",
    "for label in np.unique(gt_image):\n",
    "    if label == 0:\n",
    "        continue   \n",
    "    for t in range(time):\n",
    "        mask = gt_image[t]==label\n",
    "        regions = regionprops(mask.astype(int))\n",
    "        for props in regions:\n",
    "            z0, y0, x0 = props.centroid\n",
    "            u = encode64((t, int(z0), int(y0), int(x0), int(props.area)),bits=[9,12,12,12,19])\n",
    "        mask = gt_image[t]==label\n",
    "        regions = regionprops(mask.astype(int))\n",
    "        for props in regions:\n",
    "            z0, y0, x0 = props.centroid\n",
    "            v = encode64((t, int(z0), int(y0), int(x0), int(props.area)),bits=[9,12,12,12,19])\n",
    "        anno_graph.add_edge(v, u, source = v, target = u)\n"
   ]
  },
  {
   "cell_type": "code",
   "execution_count": 6,
   "metadata": {},
   "outputs": [],
   "source": [
    "# get the id list of one time frame\n",
    "id, positions, _ = segment_stats(gt_image[0],0)"
   ]
  },
  {
   "cell_type": "code",
   "execution_count": 4,
   "metadata": {},
   "outputs": [],
   "source": [
    "t = 0\n",
    "merge_tree = z['Merge_tree/Merge/'+str(t)]\n",
    "scores = z['Merge_tree/Scoring/'+str(t)]\n",
    "merge_tree = get_merge_graph_from_array(merge_tree,scores)\n"
   ]
  },
  {
   "cell_type": "code",
   "execution_count": 10,
   "metadata": {},
   "outputs": [],
   "source": [
    "# count the number of how many annotation id in merge tree\n",
    "def count_anno_id(id,merge_tree):\n",
    "    '''\n",
    "    merge_tree: nx.Digrph merge_tree create by waterz \n",
    "    id: ndarray (n,) 1d array store all ids in GT image\n",
    "    correct_id_num: int count the number of how many annotation node(id) in merge tree\n",
    "    '''\n",
    "    mt_id = list(merge_tree.nodes)\n",
    "    correct_id_num = len(set(id)&set(mt_id))\n",
    "    return correct_id_num \n",
    "\n",
    "correct_id_num = count_anno_id(id,merge_tree)"
   ]
  },
  {
   "cell_type": "code",
   "execution_count": 6,
   "metadata": {},
   "outputs": [
    {
     "data": {
      "text/plain": [
       "<Labels layer 'fragments' at 0x7f639ff5c8b0>"
      ]
     },
     "execution_count": 6,
     "metadata": {},
     "output_type": "execute_result"
    }
   ],
   "source": [
    "# get the id list of one time frame\n",
    "id, positions, _ = segment_stats(gt_image[0],0)"
   ]
  },
  {
   "cell_type": "code",
   "execution_count": null,
   "metadata": {},
   "outputs": [],
   "source": [
    "t = 0\n",
    "merge_tree = z['Merge_tree/Merge/'+str(t)]\n",
    "scores = z['Merge_tree/Scoring/'+str(t)]\n",
    "merge_tree = get_merge_graph_from_array(merge_tree,scores)\n",
    "\n",
    "# count the number of how many annotation id in merge tree\n",
    "def count_anno_id(id,merge_tree):\n",
    "    '''\n",
    "    merge_tree: nx.Digrph merge_tree create by waterz \n",
    "    id: ndarray (n,) 1d array store all ids in GT image\n",
    "    correct_id_num: int count the number of how many annotation node(id) in merge tree\n",
    "    '''\n",
    "    mt_id = list(merge_tree.nodes)\n",
    "    correct_id_num = len(set(id)&set(mt_id))\n",
    "    return correct_id_num \n",
    "\n",
    "correct_id_num = count_anno_id(id,merge_tree)\n"
   ]
  },
  {
   "cell_type": "code",
   "execution_count": null,
   "metadata": {},
   "outputs": [],
   "source": [
    "import napari\n",
    "viewer = napari.Viewer()\n",
    "viewer.add_image(raw[3])\n",
    "viewer.add_labels(gt_image)"
   ]
  },
  {
   "cell_type": "code",
   "execution_count": null,
   "metadata": {},
   "outputs": [],
   "source": [
    "# read .gexf file which created by run_candidate_graph.ipynb\n",
    "graph = nx.read_gexf('text.gexf')"
   ]
  },
  {
   "cell_type": "code",
   "execution_count": null,
   "metadata": {},
   "outputs": [],
   "source": [
    "def get_select_graph(graph):\n",
    "    select_graph = nx.DiGraph()\n",
    "    for u,v,data in graph.edges(data=True):\n",
    "        if data['selected']:\n",
    "            select_graph.add_edge(v, u, source = v, target = u)\n",
    "            select_graph.add_node(u, **graph.nodes[u])\n",
    "            select_graph.add_node(v, **graph.nodes[v])\n",
    "    return select_graph"
   ]
  },
  {
   "attachments": {},
   "cell_type": "markdown",
   "metadata": {},
   "source": [
    "# get the sovler output"
   ]
  },
  {
   "cell_type": "code",
   "execution_count": 10,
   "metadata": {},
   "outputs": [],
   "source": [
    "# read .gexf file which created by run_candidate_graph.ipynb\n",
    "graph = nx.read_graphml('test.graphml')"
   ]
  },
  {
   "cell_type": "code",
   "execution_count": 11,
   "metadata": {},
   "outputs": [],
   "source": [
    "def get_select_graph(graph):\n",
    "    select_graph = nx.DiGraph()\n",
    "    for u,v,data in graph.edges(data=True):\n",
    "        if data['selected']:\n",
    "            select_graph.add_edge(v, u, source = v, target = u)\n",
    "            select_graph.add_node(u, **graph.nodes[u])\n",
    "            select_graph.add_node(v, **graph.nodes[v])\n",
    "    return select_graph\n",
    "\n",
    "select_graph = get_select_graph(graph)"
   ]
  },
  {
   "cell_type": "code",
   "execution_count": 12,
   "metadata": {},
   "outputs": [
    {
     "name": "stdout",
     "output_type": "stream",
     "text": [
      "1337143618181632\n",
      "34234522901939712\n",
      "5453646393247232\n",
      "844545189216256\n",
      "28569847583478785\n",
      "879617892155393\n"
     ]
    }
   ],
   "source": [
    "\n",
    "for node in select_graph.nodes:\n",
    "    if select_graph.out_degree(node) == 2:\n",
    "        print(node)\n",
    "    # find the devision node\n"
   ]
  },
  {
   "cell_type": "code",
   "execution_count": 13,
   "metadata": {},
   "outputs": [],
   "source": [
    "def pick_select_edge(graph):\n",
    "    edges = []\n",
    "    selected_edges = []\n",
    "    for u,v,data in graph.edges(data=True):\n",
    "        edges.append((u,v))\n",
    "        if data['selected']:\n",
    "            selected_edges.append((u,v))\n",
    "    return edges, selected_edges\n",
    "\n",
    "edges, selected_edges = pick_select_edge(graph)"
   ]
  },
  {
   "cell_type": "code",
   "execution_count": 14,
   "metadata": {},
   "outputs": [],
   "source": [
    "track_data = []\n",
    "# creat a list for tracking node\n",
    "track_id_node = []\n",
    "track_id = 0\n",
    "for node in select_graph.nodes:\n",
    "    cor = decode64(int(node),dims=5,bits=[9,12,12,12,19])\n",
    "    track_data.append([track_id,cor[0],cor[1],cor[2],cor[3]])\n",
    "    track_id_node.append(node)\n",
    "    track_id += 1"
   ]
  },
  {
   "cell_type": "code",
   "execution_count": 15,
   "metadata": {},
   "outputs": [
    {
     "name": "stdout",
     "output_type": "stream",
     "text": [
      "the ids of nodes in t0 are: ['1020578718816256', '1794634908964352', '8584995398486528', '11892360728284160', '950218593931776', '13616583976948736', '387045272852992', '14425618334619136', '1125934287555072', '1337143618181632', '1020389761225728', '12420306700342784', '1724248995398144', '1337238096969728', '11751795078464512', '1126054584385536', '3131469249647616', '1372233480018432', '4433239475228160', '5770314342471680', '70600682897408', '9429446111005184', '27795748470920192', '352084251639808', '2005715371687936', '3870495678139392', '3307477059766272', '25860668156548096', '6333384552877056', '809352231393792', '950184223705600', '34234522901939712', '5453646393247232', '28323531230021120', '6825836952946176', '34199252666160128', '4538973003186688', '1161256111177728', '39582607616248320', '3061229369167872', '844545189216256', '10555337411133952', '2286992805068800', '1759450543162880', '7142659481143296', '8303520449037824', '1442567904297984', '809309334145024', '4222150477090304', '809283545464832', '4925855092441088', '1759390405230592', '19316374903985664', '1337160758201856', '1477820981182464', '10555337427916288', '3483493357061632', '3729732436755456', '1020424099994112', '35321834118144', '9851796012931072', '2709428612635136', '1196500614905856', '1372199103496704', '7599936094863872', '2990757585623040', '140849157511680']\n"
     ]
    }
   ],
   "source": [
    "def select_nodes_t(select_graph,t):\n",
    "    nodes_t = []\n",
    "    for node in select_graph.nodes:\n",
    "        cor = decode64(int(node),dims = 5,bits=[9,12,12,12,19])\n",
    "        if cor[0]== t:\n",
    "            nodes_t.append(node)\n",
    "    return nodes_t\n",
    "# pick out the start node\n",
    "\n",
    "node_start = select_nodes_t(select_graph,0)\n",
    "print('the ids of nodes in t0 are:', node_start)"
   ]
  },
  {
   "cell_type": "code",
   "execution_count": 16,
   "metadata": {},
   "outputs": [],
   "source": [
    "def find_path(graph, start, end):\n",
    "    queue = [(start, [start])]\n",
    "    while queue:\n",
    "        (node, path) = queue.pop(0)\n",
    "        for neighbor in graph.successors(node):\n",
    "            if neighbor == end:\n",
    "                yield path + [end]\n",
    "            else:\n",
    "                queue.append((neighbor, path + [neighbor]))\n",
    "                \n",
    "def find_all_paths(graph, start):\n",
    "    paths = []\n",
    "    for node in graph.nodes():\n",
    "        paths.extend(list(find_path(graph, start, node)))\n",
    "    return [path for i, path in enumerate(paths) if not any(path == subpath[:len(path)] for subpath in paths[:i] + paths[i+1:])]\n",
    "\n",
    "def find_repeated_nodes(paths):\n",
    "    node_counts = {}\n",
    "    for path in paths:\n",
    "        for node in path:\n",
    "            node_counts[node] = node_counts.get(node, 0) + 1\n",
    "    repeated_nodes = set([node for node, count in node_counts.items() if count > 1])\n",
    "    return repeated_nodes\n",
    "\n",
    "def pick_nodes_once(lst):\n",
    "    output = []\n",
    "    nodes = set()\n",
    "    for item in lst:\n",
    "        new_item = []\n",
    "        for node in item:\n",
    "            if node not in nodes:\n",
    "                new_item.append(node)\n",
    "                nodes.add(node)\n",
    "        if new_item:\n",
    "            output.append(new_item)\n",
    "    return output"
   ]
  },
  {
   "cell_type": "code",
   "execution_count": 20,
   "metadata": {},
   "outputs": [
    {
     "name": "stdout",
     "output_type": "stream",
     "text": [
      "the paths are [['1337143618181632', '1161213163607553', '13335040276567554'], ['1337143618181632', '1513048298756097', '668606188754946']]\n",
      "sub-set of paths: [['1337143618181632', '1161213163607553', '13335040276567554'], ['1513048298756097', '668606188754946']]\n",
      "******************\n",
      "the paths are [['34234522901939712', '211192140268033'], ['34234522901939712', '5629628389524481', '2005663836275714']]\n",
      "sub-set of paths: [['34234522901939712', '211192140268033'], ['5629628389524481', '2005663836275714']]\n",
      "******************\n",
      "the paths are [['5453646393247232', '1759287323919361', '598168685248514'], ['5453646393247232', '1900050586272769', '422298364412418']]\n",
      "sub-set of paths: [['5453646393247232', '1759287323919361', '598168685248514'], ['1900050586272769', '422298364412418']]\n",
      "******************\n",
      "the paths are [['844545189216256', '351963979973633', '3307459825371650'], ['844545189216256', '457508508402689', '5348127643009538']]\n",
      "sub-set of paths: [['844545189216256', '351963979973633', '3307459825371650'], ['457508508402689', '5348127643009538']]\n",
      "******************\n",
      "the paths are [['19316374903985664', '28569847583478785', '1055642833915906'], ['19316374903985664', '28569847583478785', '140917883278850']]\n",
      "sub-set of paths: [['19316374903985664', '28569847583478785', '1055642833915906'], ['140917883278850']]\n",
      "******************\n",
      "the paths are [['1372199103496704', '879617892155393', '1407383475585538'], ['1372199103496704', '879617892155393', '70368744177666']]\n",
      "sub-set of paths: [['1372199103496704', '879617892155393', '1407383475585538'], ['70368744177666']]\n",
      "******************\n"
     ]
    }
   ],
   "source": [
    "track_data = []\n",
    "track_id = 0\n",
    "label = 1\n",
    "num_node = 0\n",
    "cell_mask = np.zeros(fragments.shape)\n",
    "#track_graph = nx.DiGraph()# graph for arboretum\n",
    "track_graph = {}\n",
    "for start in node_start:    \n",
    "    paths = find_all_paths(select_graph, start)\n",
    "    pick = pick_nodes_once(paths)\n",
    "    main_track = label\n",
    "\n",
    "    for path in pick:\n",
    "        for node in path:\n",
    "            num_node = num_node+1\n",
    "            cor = decode64(int(node),dims=5,bits=[9,12,12,12,19])\n",
    "            t = cor[0]\n",
    "            track_data.append([label,cor[0],cor[1],cor[2],cor[3]])\n",
    "            ids = z['Fragment_stats/id/'+str(t)]\n",
    "            merge_tree = z['Merge_tree/Merge/'+str(t)]\n",
    "            scores = z['Merge_tree/Scoring/'+str(t)]\n",
    "            merge_tree = get_merge_graph_from_array(merge_tree,scores)\n",
    "\n",
    "            if merge_tree.has_node(int(node)):\n",
    "                sub_tree = iterate_tree(merge_tree,int(node))\n",
    "                for a in sub_tree:\n",
    "                    if a in list(ids):\n",
    "                        # a is the leave node id\n",
    "                        # get the label of this leave node\n",
    "                        label_a = list(ids).index(a)+1\n",
    "                        cell_mask[t][fragments[t] == label_a] = label\n",
    "        if len(paths)>1 and main_track != label:\n",
    "            #track_graph.add_edge(main_track,label)\n",
    "            track_graph[label] = [main_track]\n",
    "            track_graph[main_track] = [main_track]\n",
    "        label = label+1\n",
    "        \n",
    "\n",
    "    if len(paths)>1:\n",
    "    #print('******************')\n",
    "        print('the paths are',paths)\n",
    "        #print('******************')\n",
    "        print('sub-set of paths:',pick)\n",
    "        print('******************')\n"
   ]
  },
  {
   "cell_type": "code",
   "execution_count": 21,
   "metadata": {},
   "outputs": [
    {
     "data": {
      "text/plain": [
       "{11: [10],\n",
       " 10: [10],\n",
       " 34: [33],\n",
       " 33: [33],\n",
       " 36: [35],\n",
       " 35: [35],\n",
       " 45: [44],\n",
       " 44: [44],\n",
       " 58: [57],\n",
       " 57: [57],\n",
       " 70: [69],\n",
       " 69: [69]}"
      ]
     },
     "execution_count": 21,
     "metadata": {},
     "output_type": "execute_result"
    }
   ],
   "source": [
    "track_graph"
   ]
  },
  {
   "cell_type": "code",
   "execution_count": 22,
   "metadata": {},
   "outputs": [],
   "source": [
    "track_data = np.array(track_data).astype(int)"
   ]
  },
  {
   "cell_type": "code",
   "execution_count": 23,
   "metadata": {},
   "outputs": [
    {
     "data": {
      "text/plain": [
       "(<napari._qt.widgets.qt_viewer_dock_widget.QtViewerDockWidget at 0x7f480a13ac20>,\n",
       " <napari_arboretum.plugin.Arboretum at 0x7f47fbf3eb00>)"
      ]
     },
     "execution_count": 23,
     "metadata": {},
     "output_type": "execute_result"
    }
   ],
   "source": [
    "import napari\n",
    "viewer = napari.Viewer()\n",
    "viewer.add_image(raw[3])\n",
    "viewer.add_labels(gt_image)\n",
    "viewer.add_labels(fragments)\n",
    "tracks = napari.layers.Tracks(track_data,   \n",
    "                              graph=track_graph, \n",
    "                              name=\"track_test\")\n",
    "viewer.add_labels(cell_mask.astype(int))\n",
    "viewer.add_layer(tracks)\n",
    "viewer.window.add_plugin_dock_widget(plugin_name=\"napari-arboretum\", \n",
    "                                     widget_name=\"Arboretum\")\n",
    "\n"
   ]
  },
  {
   "cell_type": "code",
   "execution_count": 25,
   "metadata": {},
   "outputs": [
    {
     "data": {
      "text/plain": [
       "(<napari._qt.widgets.qt_viewer_dock_widget.QtViewerDockWidget at 0x7f4828db8160>,\n",
       " <napari_arboretum.plugin.Arboretum at 0x7f4808b12710>)"
      ]
     },
     "execution_count": 25,
     "metadata": {},
     "output_type": "execute_result"
    }
   ],
   "source": [
    "from napari_arboretum import load_sample_data\n",
    "\n",
    "track, segmentation = load_sample_data()\n",
    "viewer = napari.Viewer()\n",
    "viewer.add_layer(segmentation)\n",
    "viewer.add_layer(track)\n",
    "viewer.window.add_plugin_dock_widget(\n",
    "    plugin_name=\"napari-arboretum\", widget_name=\"Arboretum\"\n",
    ")"
   ]
  },
  {
   "cell_type": "code",
   "execution_count": 2,
   "metadata": {},
   "outputs": [],
   "source": [
    "x = track.data"
   ]
  },
  {
   "cell_type": "code",
   "execution_count": 3,
   "metadata": {},
   "outputs": [],
   "source": [
    "y = track.graph"
   ]
  },
  {
   "cell_type": "code",
   "execution_count": 26,
   "metadata": {},
   "outputs": [
    {
     "data": {
      "text/plain": [
       "{82: [53],\n",
       " 83: [53],\n",
       " 87: [82],\n",
       " 88: [82],\n",
       " 89: [68],\n",
       " 90: [68],\n",
       " 92: [35],\n",
       " 93: [35],\n",
       " 105: [52],\n",
       " 106: [52],\n",
       " 118: [5],\n",
       " 119: [5],\n",
       " 130: [24],\n",
       " 131: [24],\n",
       " 132: [33],\n",
       " 133: [33],\n",
       " 142: [14],\n",
       " 143: [14],\n",
       " 145: [144],\n",
       " 146: [144],\n",
       " 147: [44],\n",
       " 148: [44],\n",
       " 154: [137],\n",
       " 155: [137],\n",
       " 162: [22],\n",
       " 163: [22],\n",
       " 166: [120],\n",
       " 167: [120],\n",
       " 170: [36],\n",
       " 171: [36],\n",
       " 172: [34],\n",
       " 173: [34],\n",
       " 174: [8],\n",
       " 175: [8],\n",
       " 177: [26],\n",
       " 178: [26],\n",
       " 185: [140],\n",
       " 186: [140],\n",
       " 187: [57],\n",
       " 188: [57],\n",
       " 191: [9],\n",
       " 192: [9],\n",
       " 195: [39],\n",
       " 196: [39],\n",
       " 197: [185],\n",
       " 198: [185],\n",
       " 200: [13],\n",
       " 201: [13],\n",
       " 204: [30],\n",
       " 205: [30],\n",
       " 206: [93],\n",
       " 207: [93],\n",
       " 210: [119],\n",
       " 211: [119],\n",
       " 212: [41],\n",
       " 213: [41],\n",
       " 216: [11],\n",
       " 217: [11],\n",
       " 218: [38],\n",
       " 220: [38],\n",
       " 221: [50],\n",
       " 222: [50],\n",
       " 224: [21],\n",
       " 225: [21],\n",
       " 226: [29],\n",
       " 227: [29],\n",
       " 232: [43],\n",
       " 233: [43],\n",
       " 234: [45],\n",
       " 236: [45],\n",
       " 240: [12],\n",
       " 241: [12],\n",
       " 246: [56],\n",
       " 248: [56],\n",
       " 252: [27],\n",
       " 253: [27],\n",
       " 256: [92],\n",
       " 257: [92],\n",
       " 258: [58],\n",
       " 259: [58],\n",
       " 260: [19],\n",
       " 261: [32],\n",
       " 262: [32],\n",
       " 263: [42],\n",
       " 264: [42],\n",
       " 265: [19],\n",
       " 267: [254],\n",
       " 268: [254],\n",
       " 269: [20],\n",
       " 270: [20],\n",
       " 271: [16],\n",
       " 272: [16],\n",
       " 282: [49],\n",
       " 283: [49],\n",
       " 286: [198],\n",
       " 287: [198],\n",
       " 293: [17],\n",
       " 294: [17],\n",
       " 297: [59],\n",
       " 298: [59],\n",
       " 299: [62],\n",
       " 300: [62],\n",
       " 302: [114],\n",
       " 303: [114],\n",
       " 306: [164],\n",
       " 307: [164],\n",
       " 309: [51],\n",
       " 310: [51],\n",
       " 314: [304],\n",
       " 316: [304],\n",
       " 320: [312],\n",
       " 321: [312],\n",
       " 324: [10],\n",
       " 325: [10],\n",
       " 326: [6],\n",
       " 327: [6],\n",
       " 330: [145],\n",
       " 331: [145],\n",
       " 340: [4],\n",
       " 341: [4],\n",
       " 346: [308],\n",
       " 347: [308],\n",
       " 352: [170],\n",
       " 353: [170],\n",
       " 354: [105],\n",
       " 356: [105],\n",
       " 359: [83],\n",
       " 360: [83],\n",
       " 362: [40],\n",
       " 363: [40],\n",
       " 365: [132],\n",
       " 366: [132],\n",
       " 367: [130],\n",
       " 368: [130],\n",
       " 372: [173],\n",
       " 373: [173],\n",
       " 374: [149],\n",
       " 375: [149],\n",
       " 377: [148],\n",
       " 378: [148],\n",
       " 380: [133],\n",
       " 381: [133],\n",
       " 382: [166],\n",
       " 383: [166],\n",
       " 385: [178],\n",
       " 386: [178],\n",
       " 390: [131],\n",
       " 391: [131],\n",
       " 393: [63],\n",
       " 394: [63],\n",
       " 397: [66],\n",
       " 399: [66],\n",
       " 402: [174],\n",
       " 403: [174],\n",
       " 405: [187],\n",
       " 406: [187],\n",
       " 410: [177],\n",
       " 411: [177],\n",
       " 413: [188],\n",
       " 414: [188],\n",
       " 415: [106],\n",
       " 416: [106],\n",
       " 418: [355],\n",
       " 421: [355],\n",
       " 422: [175],\n",
       " 423: [175],\n",
       " 426: [172],\n",
       " 427: [172],\n",
       " 429: [138],\n",
       " 430: [138],\n",
       " 431: [197],\n",
       " 433: [197],\n",
       " 438: [180],\n",
       " 439: [180],\n",
       " 447: [167],\n",
       " 448: [167],\n",
       " 449: [205],\n",
       " 450: [205],\n",
       " 451: [147],\n",
       " 452: [147],\n",
       " 453: [89],\n",
       " 454: [89],\n",
       " 455: [211],\n",
       " 456: [211],\n",
       " 457: [80],\n",
       " 458: [80],\n",
       " 460: [204],\n",
       " 461: [204],\n",
       " 463: [233],\n",
       " 464: [233],\n",
       " 465: [201],\n",
       " 466: [201],\n",
       " 467: [28],\n",
       " 468: [262],\n",
       " 469: [28],\n",
       " 470: [262],\n",
       " 471: [171],\n",
       " 472: [171],\n",
       " 473: [195],\n",
       " 474: [195],\n",
       " 475: [31],\n",
       " 476: [31],\n",
       " 479: [162],\n",
       " 480: [162],\n",
       " 482: [98],\n",
       " 483: [98],\n",
       " 486: [213],\n",
       " 487: [213],\n",
       " 488: [163],\n",
       " 489: [163],\n",
       " 491: [261],\n",
       " 492: [261],\n",
       " 495: [196],\n",
       " 496: [196],\n",
       " 498: [60],\n",
       " 499: [60],\n",
       " 501: [90],\n",
       " 502: [90],\n",
       " 504: [232],\n",
       " 505: [232]}"
      ]
     },
     "execution_count": 26,
     "metadata": {},
     "output_type": "execute_result"
    }
   ],
   "source": [
    "y"
   ]
  },
  {
   "cell_type": "code",
   "execution_count": 1,
   "metadata": {},
   "outputs": [
    {
     "data": {
      "text/plain": [
       "[1, 2, 3, 7, 3, 2, 4, 5, 4, 6, 4, 2, 1, 8, 9, 10, 9, 8, 1]"
      ]
     },
     "execution_count": 1,
     "metadata": {},
     "output_type": "execute_result"
    }
   ],
   "source": [
    "import networkx as nx\n",
    "\n",
    "g = nx.Graph()\n",
    "g.add_edge(2,1)\n",
    "g.add_edge(3,2)\n",
    "g.add_edge(4,2)\n",
    "g.add_edge(5,4)\n",
    "g.add_edge(6,4)\n",
    "g.add_edge(7,3)\n",
    "g.add_edge(8,1)\n",
    "g.add_edge(9,8)\n",
    "g.add_edge(10,9)\n",
    "\n",
    "# Perform depth-first search to obtain the desired subset\n",
    "subset = []\n",
    "visited = set()\n",
    "\n",
    "def dfs(node):\n",
    "    visited.add(node)\n",
    "    subset.append(node)\n",
    "    for neighbor in g.neighbors(node):\n",
    "        if neighbor not in visited:\n",
    "            dfs(neighbor)\n",
    "            # Add the node again if it has multiple branches\n",
    "            if len(list(g.neighbors(node))) > 1:\n",
    "                subset.append(node)\n",
    "\n",
    "dfs(1) # Start the search at node 1\n",
    "subset"
   ]
  },
  {
   "cell_type": "code",
   "execution_count": 45,
   "metadata": {},
   "outputs": [
    {
     "name": "stdout",
     "output_type": "stream",
     "text": [
      "[1]\n",
      "[2]\n",
      "[4]\n",
      "[5]\n",
      "[6]\n",
      "[3, 7]\n",
      "[8, 9, 10]\n"
     ]
    }
   ],
   "source": [
    "# example for track\n",
    "\n",
    "'''\n",
    "               /  5  \n",
    "           /  4 - 6\n",
    "      / 2 / - 3 - 7\n",
    "    1/- 8 - - 9 - 10\n",
    "\n",
    "'''\n",
    "\n",
    "g = nx.DiGraph()\n",
    "g.add_edge(2,1)\n",
    "g.add_edge(8,1)\n",
    "\n",
    "g.add_edge(3,2)\n",
    "g.add_edge(4,2)\n",
    "\n",
    "g.add_edge(5,4)\n",
    "g.add_edge(6,4)\n",
    "\n",
    "g.add_edge(7,3)\n",
    "\n",
    "g.add_edge(9,8)\n",
    "g.add_edge(10,9)\n",
    "\n",
    "node_start=(1)\n",
    "lst = [[1,2,4,5],[1,2,4,6],[1,2,3,7],[1,8,9,10]]\n",
    "\n",
    "track_graph = {}\n",
    "output = []\n",
    "nodes = set()\n",
    "for item in lst:\n",
    "    new_item = []\n",
    "    for node in item:\n",
    "        if node not in nodes:\n",
    "            nodes.add(node)\n",
    "            new_item.append(node)\n",
    "            if g.in_degree(node) == 2:\n",
    "                output.append(new_item)\n",
    "                new_item = []\n",
    "                      \n",
    "    if new_item:\n",
    "        output.append(new_item)\n",
    "\n",
    "for i in output:\n",
    "    print(i)\n"
   ]
  },
  {
   "cell_type": "code",
   "execution_count": 38,
   "metadata": {},
   "outputs": [
    {
     "data": {
      "text/plain": [
       "2"
      ]
     },
     "execution_count": 38,
     "metadata": {},
     "output_type": "execute_result"
    }
   ],
   "source": [
    "g.in_degree(4)"
   ]
  },
  {
   "cell_type": "code",
   "execution_count": 25,
   "metadata": {},
   "outputs": [
    {
     "data": {
      "text/plain": [
       "0"
      ]
     },
     "execution_count": 25,
     "metadata": {},
     "output_type": "execute_result"
    }
   ],
   "source": [
    "g.in_degree(node)"
   ]
  },
  {
   "cell_type": "code",
   "execution_count": 23,
   "metadata": {},
   "outputs": [
    {
     "data": {
      "text/plain": [
       "{1, 2, 3, 4, 5, 6, 7, 8, 9, 10}"
      ]
     },
     "execution_count": 23,
     "metadata": {},
     "output_type": "execute_result"
    }
   ],
   "source": [
    "nodes"
   ]
  },
  {
   "cell_type": "code",
   "execution_count": 5,
   "metadata": {},
   "outputs": [
    {
     "data": {
      "text/plain": [
       "2"
      ]
     },
     "execution_count": 5,
     "metadata": {},
     "output_type": "execute_result"
    }
   ],
   "source": [
    "[[1],[2],[5],[3,7],[4],[6],[8,9,10]]"
   ]
  },
  {
   "cell_type": "code",
   "execution_count": 9,
   "metadata": {},
   "outputs": [],
   "source": [
    "def find_sub_paths(g):\n",
    "    sub_paths = []\n",
    "\n",
    "    def dfs(v, path):\n",
    "        if v != 1:\n",
    "            sub_paths.append(path)\n",
    "        for w in g.successors(v):\n",
    "            if w not in path:\n",
    "                dfs(w, path + [w])\n",
    "\n",
    "    dfs(1, [1])\n",
    "    return sub_paths"
   ]
  },
  {
   "cell_type": "code",
   "execution_count": 8,
   "metadata": {},
   "outputs": [
    {
     "name": "stdout",
     "output_type": "stream",
     "text": [
      "[]\n"
     ]
    }
   ],
   "source": [
    "sub_paths = find_sub_paths(g)\n",
    "print(sub_paths)"
   ]
  },
  {
   "cell_type": "code",
   "execution_count": 30,
   "metadata": {},
   "outputs": [
    {
     "name": "stdout",
     "output_type": "stream",
     "text": [
      "[1]\n",
      "{1}\n"
     ]
    }
   ],
   "source": [
    "subset = []\n",
    "visited = set()\n",
    "def dfs(node):\n",
    "    visited.add(node)\n",
    "    subset.append(node)\n",
    "    for neighbor in g.neighbors(node):\n",
    "        if neighbor not in visited:\n",
    "            dfs(neighbor)\n",
    "            # Add the node again if it has multiple branches\n",
    "            if len(list(g.neighbors(node))) > 1:\n",
    "                subset.append(node)\n",
    "\n",
    "dfs(1) # Start the search at node 1\n",
    "print(subset)\n",
    "print(visited)"
   ]
  },
  {
   "cell_type": "code",
   "execution_count": 21,
   "metadata": {},
   "outputs": [
    {
     "data": {
      "text/plain": [
       "array([  0, 173, 174])"
      ]
     },
     "execution_count": 21,
     "metadata": {},
     "output_type": "execute_result"
    }
   ],
   "source": [
    "np.unique(cell)"
   ]
  },
  {
   "cell_type": "code",
   "execution_count": 43,
   "metadata": {},
   "outputs": [
    {
     "data": {
      "text/plain": [
       "OutEdgeDataView([('1020578718816256', '2814981697443329', {'source': '1020578718816256', 'target': '2814981697443329'}), ('2814981697443329', '8374103897543682', {'source': '2814981697443329', 'target': '8374103897543682'}), ('1794634908964352', '2216847378224641', {'source': '1794634908964352', 'target': '2216847378224641'}), ('8584995398486528', '25966100969687553', {'source': '8584995398486528', 'target': '25966100969687553'}), ('25966100969687553', '70368752566786', {'source': '25966100969687553', 'target': '70368752566786'}), ('11892360728284160', '633361655664129', {'source': '11892360728284160', 'target': '633361655664129'}), ('633361655664129', '18436671112480770', {'source': '633361655664129', 'target': '18436671112480770'}), ('950218593931776', '8901869518722049', {'source': '950218593931776', 'target': '8901869518722049'}), ('8901869518722049', '950167060617730', {'source': '8901869518722049', 'target': '950167060617730'}), ('13616583976948736', '12736966088987137', {'source': '13616583976948736', 'target': '12736966088987137'}), ('12736966088987137', '6685254091805186', {'source': '12736966088987137', 'target': '6685254091805186'}), ('387045272852992', '3940675445855745', {'source': '387045272852992', 'target': '3940675445855745'}), ('14425618334619136', '7775754836252673', {'source': '14425618334619136', 'target': '7775754836252673'}), ('7775754836252673', '24136505031136258', {'source': '7775754836252673', 'target': '24136505031136258'}), ('1125934287555072', '47991535100236289', {'source': '1125934287555072', 'target': '47991535100236289'}), ('47991535100236289', '11153454560971266', {'source': '47991535100236289', 'target': '11153454560971266'}), ('1337143618181632', '1513048298756097', {'source': '1337143618181632', 'target': '1513048298756097'}), ('1337143618181632', '1161213163607553', {'source': '1337143618181632', 'target': '1161213163607553'}), ('1513048298756097', '668606188754946', {'source': '1513048298756097', 'target': '668606188754946'}), ('1020389761225728', '1724094382870529', {'source': '1020389761225728', 'target': '1724094382870529'}), ('1724094382870529', '17803378205660162', {'source': '1724094382870529', 'target': '17803378205660162'}), ('12420306700342784', '15199846331848705', {'source': '12420306700342784', 'target': '15199846331848705'}), ('15199846331848705', '1055694392400386', {'source': '15199846331848705', 'target': '1055694392400386'}), ('1724248995398144', '1055745925710337', {'source': '1724248995398144', 'target': '1055745925710337'}), ('1337238096969728', '4116786303730177', {'source': '1337238096969728', 'target': '4116786303730177'}), ('4116786303730177', '1442731071111170', {'source': '4116786303730177', 'target': '1442731071111170'}), ('11751795078464512', '5031588599431681', {'source': '11751795078464512', 'target': '5031588599431681'}), ('5031588599431681', '6544516601349122', {'source': '5031588599431681', 'target': '6544516601349122'}), ('1126054584385536', '6509297871618561', {'source': '1126054584385536', 'target': '6509297871618561'}), ('6509297871618561', '914974109073410', {'source': '6509297871618561', 'target': '914974109073410'}), ('3131469249647616', '3799980911368193', {'source': '3131469249647616', 'target': '3799980911368193'}), ('3799980911368193', '281578060126210', {'source': '3799980911368193', 'target': '281578060126210'}), ('1372233480018432', '2146289657583617', {'source': '1372233480018432', 'target': '2146289657583617'}), ('2146289657583617', '6122132304040450', {'source': '2146289657583617', 'target': '6122132304040450'}), ('4433239475228160', '2990688809520641', {'source': '4433239475228160', 'target': '2990688809520641'}), ('2990688809520641', '422212469261314', {'source': '2990688809520641', 'target': '422212469261314'}), ('5770314342471680', '9253567185555969', {'source': '5770314342471680', 'target': '9253567185555969'}), ('9253567185555969', '9288760143384578', {'source': '9253567185555969', 'target': '9288760143384578'}), ('70600682897408', '4609358910456321', {'source': '70600682897408', 'target': '4609358910456321'}), ('4609358910456321', '3237176982636034', {'source': '4609358910456321', 'target': '3237176982636034'}), ('9429446111005184', '668546052917249', {'source': '9429446111005184', 'target': '668546052917249'}), ('668546052917249', '28816035136147458', {'source': '668546052917249', 'target': '28816035136147458'}), ('27795748470920192', '950098345333249', {'source': '27795748470920192', 'target': '950098345333249'}), ('950098345333249', '4750010528830466', {'source': '950098345333249', 'target': '4750010528830466'}), ('352084251639808', '703919386788353', {'source': '352084251639808', 'target': '703919386788353'}), ('2005715371687936', '1161281849525249', {'source': '2005715371687936', 'target': '1161281849525249'}), ('1161281849525249', '3237125440933378', {'source': '1161281849525249', 'target': '3237125440933378'}), ('3870495678139392', '4011224580753921', {'source': '3870495678139392', 'target': '4011224580753921'}), ('4011224580753921', '703876422437890', {'source': '4011224580753921', 'target': '703876422437890'}), ('3307477059766272', '22307046575576065', {'source': '3307477059766272', 'target': '22307046575576065'}), ('22307046575576065', '21005181841835522', {'source': '22307046575576065', 'target': '21005181841835522'}), ('25860668156548096', '1126045975583233', {'source': '25860668156548096', 'target': '1126045975583233'}), ('1126045975583233', '703807747004930', {'source': '1126045975583233', 'target': '703807747004930'}), ('6333384552877056', '2040873976071681', {'source': '6333384552877056', 'target': '2040873976071681'}), ('2040873976071681', '2955684832348162', {'source': '2040873976071681', 'target': '2955684832348162'}), ('809352231393792', '914870994213889', {'source': '809352231393792', 'target': '914870994213889'}), ('914870994213889', '29484641261982210', {'source': '914870994213889', 'target': '29484641261982210'}), ('950184223705600', '1302019350464001', {'source': '950184223705600', 'target': '1302019350464001'}), ('1302019350464001', '13475837865100802', {'source': '1302019350464001', 'target': '13475837865100802'}), ('34234522901939712', '5629628389524481', {'source': '34234522901939712', 'target': '5629628389524481'}), ('34234522901939712', '211192140268033', {'source': '34234522901939712', 'target': '211192140268033'}), ('5629628389524481', '2005663836275714', {'source': '5629628389524481', 'target': '2005663836275714'}), ('5453646393247232', '1900050586272769', {'source': '5453646393247232', 'target': '1900050586272769'}), ('5453646393247232', '1759287323919361', {'source': '5453646393247232', 'target': '1759287323919361'}), ('1900050586272769', '422298364412418', {'source': '1900050586272769', 'target': '422298364412418'}), ('28323531230021120', '48554553771034113', {'source': '28323531230021120', 'target': '48554553771034113'}), ('48554553771034113', '1161153031965186', {'source': '48554553771034113', 'target': '1161153031965186'}), ('6825836952946176', '8479502436926977', {'source': '6825836952946176', 'target': '8479502436926977'}), ('8479502436926977', '457457006543362', {'source': '8479502436926977', 'target': '457457006543362'}), ('34199252666160128', '17803378224534529', {'source': '34199252666160128', 'target': '17803378224534529'}), ('17803378224534529', '10379484303725570', {'source': '17803378224534529', 'target': '10379484303725570'}), ('4538973003186688', '598297557336065', {'source': '4538973003186688', 'target': '598297557336065'}), ('598297557336065', '15410883844899842', {'source': '598297557336065', 'target': '15410883844899842'}), ('1161256111177728', '3448248882692097', {'source': '1161256111177728', 'target': '3448248882692097'}), ('3448248882692097', '1442739671531522', {'source': '3448248882692097', 'target': '1442739671531522'}), ('39582607616248320', '46760210930338817', {'source': '39582607616248320', 'target': '46760210930338817'}), ('46760210930338817', '43382511209810434', {'source': '46760210930338817', 'target': '43382511209810434'}), ('3061229369167872', '4187129269718529', {'source': '3061229369167872', 'target': '4187129269718529'}), ('4187129269718529', '1513108403129346', {'source': '4187129269718529', 'target': '1513108403129346'}), ('844545189216256', '457508508402689', {'source': '844545189216256', 'target': '457508508402689'}), ('844545189216256', '351963979973633', {'source': '844545189216256', 'target': '351963979973633'}), ('457508508402689', '5348127643009538', {'source': '457508508402689', 'target': '5348127643009538'}), ('1161213163607553', '13335040276567554', {'source': '1161213163607553', 'target': '13335040276567554'}), ('10555337411133952', '1724085776154625', {'source': '10555337411133952', 'target': '1724085776154625'}), ('1724085776154625', '4679573044199426', {'source': '1724085776154625', 'target': '4679573044199426'}), ('2286992805068800', '11540508425846785', {'source': '2286992805068800', 'target': '11540508425846785'}), ('11540508425846785', '4327686377832450', {'source': '11540508425846785', 'target': '4327686377832450'}), ('1759450543162880', '3835337088436225', {'source': '1759450543162880', 'target': '3835337088436225'}), ('3835337088436225', '1302062291748866', {'source': '3835337088436225', 'target': '1302062291748866'}), ('7142659481143296', '2463146587458049', {'source': '7142659481143296', 'target': '2463146587458049'}), ('2463146587458049', '387268638411266', {'source': '2463146587458049', 'target': '387268638411266'}), ('8303520449037824', '7881307981875201', {'source': '8303520449037824', 'target': '7881307981875201'}), ('7881307981875201', '10168292167649282', {'source': '7881307981875201', 'target': '10168292167649282'}), ('1442567904297984', '2146255346075137', {'source': '1442567904297984', 'target': '2146255346075137'}), ('2146255346075137', '3201786506642946', {'source': '2146255346075137', 'target': '3201786506642946'}), ('809309334145024', '422281239070209', {'source': '809309334145024', 'target': '422281239070209'}), ('4222150477090304', '19773651528192001', {'source': '4222150477090304', 'target': '19773651528192001'}), ('19773651528192001', '18682935993438210', {'source': '19773651528192001', 'target': '18682935993438210'}), ('809283545464832', '1548138179461633', {'source': '809283545464832', 'target': '1548138179461633'}), ('1548138179461633', '140771883745282', {'source': '1548138179461633', 'target': '140771883745282'}), ('4925855092441088', '4609187153707009', {'source': '4925855092441088', 'target': '4609187153707009'}), ('4609187153707009', '1407400695300098', {'source': '4609187153707009', 'target': '1407400695300098'}), ('1759390405230592', '3377854341447681', {'source': '1759390405230592', 'target': '3377854341447681'}), ('3377854341447681', '4714877660692994', {'source': '3377854341447681', 'target': '4714877660692994'}), ('19316374903985664', '28569847583478785', {'source': '19316374903985664', 'target': '28569847583478785'}), ('28569847583478785', '1055642833915906', {'source': '28569847583478785', 'target': '1055642833915906'}), ('28569847583478785', '140917883278850', {'source': '28569847583478785', 'target': '140917883278850'}), ('1337160758201856', '3764916792071169', {'source': '1337160758201856', 'target': '3764916792071169'}), ('3764916792071169', '2251980202317314', {'source': '3764916792071169', 'target': '2251980202317314'}), ('351963979973633', '3307459825371650', {'source': '351963979973633', 'target': '3307459825371650'}), ('1477820981182464', '281543744421889', {'source': '1477820981182464', 'target': '281543744421889'}), ('281543744421889', '9710964052067330', {'source': '281543744421889', 'target': '9710964052067330'}), ('10555337427916288', '598134367459841', {'source': '10555337427916288', 'target': '598134367459841'}), ('598134367459841', '457396870715906', {'source': '598134367459841', 'target': '457396870715906'}), ('3483493357061632', '2709428579075585', {'source': '3483493357061632', 'target': '2709428579075585'}), ('2709428579075585', '633550625833474', {'source': '2709428579075585', 'target': '633550625833474'}), ('3729732436755456', '1548275593248769', {'source': '3729732436755456', 'target': '1548275593248769'}), ('1548275593248769', '246453825963522', {'source': '1548275593248769', 'target': '246453825963522'}), ('1020424099994112', '1407452192970753', {'source': '1020424099994112', 'target': '1407452192970753'}), ('1407452192970753', '2709273962354690', {'source': '1407452192970753', 'target': '2709273962354690'}), ('35321834118144', '985274108615169', {'source': '35321834118144', 'target': '985274108615169'}), ('985274108615169', '70480436403202', {'source': '985274108615169', 'target': '70480436403202'}), ('9851796012931072', '211235106724353', {'source': '9851796012931072', 'target': '211235106724353'}), ('211235106724353', '1231599081363970', {'source': '211235106724353', 'target': '1231599081363970'}), ('2709428612635136', '2287224735406081', {'source': '2709428612635136', 'target': '2287224735406081'}), ('2287224735406081', '844665475568642', {'source': '2287224735406081', 'target': '844665475568642'}), ('1196500614905856', '3131641077694977', {'source': '1196500614905856', 'target': '3131641077694977'}), ('3131641077694977', '2005741168754690', {'source': '3131641077694977', 'target': '2005741168754690'}), ('1372199103496704', '879617892155393', {'source': '1372199103496704', 'target': '879617892155393'}), ('879617892155393', '1407383475585538', {'source': '879617892155393', 'target': '1407383475585538'}), ('879617892155393', '70368744177666', {'source': '879617892155393', 'target': '70368744177666'}), ('7599936094863872', '7775840777536513', {'source': '7599936094863872', 'target': '7775840777536513'}), ('7775840777536513', '8479528217217026', {'source': '7775840777536513', 'target': '8479528217217026'}), ('2990757585623040', '2005586577201153', {'source': '2990757585623040', 'target': '2005586577201153'}), ('2005586577201153', '2392597479823362', {'source': '2005586577201153', 'target': '2392597479823362'}), ('140849157511680', '527885840423425', {'source': '140849157511680', 'target': '527885840423425'}), ('527885840423425', '1759338863532034', {'source': '527885840423425', 'target': '1759338863532034'}), ('1759287323919361', '598168685248514', {'source': '1759287323919361', 'target': '598168685248514'}), ('4011250356851201', '16712791507342850', {'source': '4011250356851201', 'target': '16712791507342850'}), ('4187172250846209', '6438972064531458', {'source': '4187172250846209', 'target': '6438972064531458'}), ('3377931688611329', '16114665796932610', {'source': '3377931688611329', 'target': '16114665796932610'})])"
      ]
     },
     "execution_count": 43,
     "metadata": {},
     "output_type": "execute_result"
    }
   ],
   "source": [
    "select_graph.edges(data=True)"
   ]
  },
  {
   "cell_type": "code",
   "execution_count": 25,
   "metadata": {},
   "outputs": [
    {
     "ename": "ModuleNotFoundError",
     "evalue": "No module named 'btrack'",
     "output_type": "error",
     "traceback": [
      "\u001b[0;31m---------------------------------------------------------------------------\u001b[0m",
      "\u001b[0;31mModuleNotFoundError\u001b[0m                       Traceback (most recent call last)",
      "Cell \u001b[0;32mIn[25], line 1\u001b[0m\n\u001b[0;32m----> 1\u001b[0m \u001b[39mfrom\u001b[39;00m \u001b[39mbtrack\u001b[39;00m \u001b[39mimport\u001b[39;00m datasets\n\u001b[1;32m      3\u001b[0m \u001b[39m# example segmentation\u001b[39;00m\n\u001b[1;32m      4\u001b[0m segmentation \u001b[39m=\u001b[39m datasets\u001b[39m.\u001b[39mexample_segmentation()\n",
      "\u001b[0;31mModuleNotFoundError\u001b[0m: No module named 'btrack'"
     ]
    }
   ],
   "source": [
    "\n"
   ]
  }
 ],
 "metadata": {
  "kernelspec": {
   "display_name": "fatepredict",
   "language": "python",
   "name": "python3"
  },
  "language_info": {
   "codemirror_mode": {
    "name": "ipython",
    "version": 3
   },
   "file_extension": ".py",
   "mimetype": "text/x-python",
   "name": "python",
   "nbconvert_exporter": "python",
   "pygments_lexer": "ipython3",
   "version": "3.10.9"
  },
  "orig_nbformat": 4
 },
 "nbformat": 4,
 "nbformat_minor": 2
}
